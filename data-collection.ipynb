{
 "cells": [
  {
   "cell_type": "code",
   "execution_count": 1,
   "metadata": {
    "autoscroll": false,
    "ein.hycell": false,
    "ein.tags": "worksheet-0",
    "slideshow": {
     "slide_type": "-"
    }
   },
   "outputs": [],
   "source": [
    "import requests\n",
    "from bs4 import BeautifulSoup\n",
    "import pandas as pd\n",
    "from time import sleep"
   ]
  },
  {
   "cell_type": "markdown",
   "metadata": {},
   "source": [
    "# Get the rankings for each country\n",
    "\n",
    "## Get Alexa rankings for one country"
   ]
  },
  {
   "cell_type": "code",
   "execution_count": 5,
   "metadata": {
    "scrolled": true
   },
   "outputs": [
    {
     "data": {
      "text/plain": [
       "[]"
      ]
     },
     "execution_count": 5,
     "metadata": {},
     "output_type": "execute_result"
    }
   ],
   "source": [
    "from funcy import compose\n",
    "\n",
    "def get_rankings (country_ranking_url, country_name):\n",
    "        \n",
    "    def parse_ranking (country_ranking_url):\n",
    "        '''Takes a country ranking URL and returns a list of (bs4 parsed) HTML ranking listings.'''\n",
    "        rankings_html = requests.get(country_ranking_url).content\n",
    "        soup = BeautifulSoup(rankings_html, 'html.parser')\n",
    "        listings = soup.find_all(\"div\", {\"class\": \"site-listing\"})\n",
    "        return listings\n",
    "\n",
    "    def extract_info (site_listing_html):\n",
    "        '''Takes HTML of an Alexa site listing and returns JSON.'''\n",
    "        attrs = site_listing_html.find_all(\"div\", {\"class\":\"td\"})\n",
    "        rank = int(attrs[0].text)\n",
    "        url = attrs[1].a.text\n",
    "        site_info = attrs[1].a['href']\n",
    "        return {\n",
    "            'rank': rank,\n",
    "            'url': url,\n",
    "            'site_info': site_info,\n",
    "            'country_name': country_name,\n",
    "        }\n",
    "\n",
    "    return [extract_info(ranking) for\n",
    "           ranking in parse_ranking(country_ranking_url)]        \n",
    "    \n",
    "\n",
    "get_rankings('https://www.alexa.com/topsites/countries/AF', 'Afghanistan')\n"
   ]
  },
  {
   "cell_type": "markdown",
   "metadata": {},
   "source": [
    "## Get name and URL for all the countries"
   ]
  },
  {
   "cell_type": "code",
   "execution_count": 7,
   "metadata": {},
   "outputs": [],
   "source": [
    "top = get_rankings('https://www.alexa.com/topsites', '')"
   ]
  },
  {
   "cell_type": "code",
   "execution_count": 10,
   "metadata": {},
   "outputs": [],
   "source": [
    "top_urls = [s['url'] for s in top]"
   ]
  },
  {
   "cell_type": "code",
   "execution_count": 20,
   "metadata": {},
   "outputs": [],
   "source": [
    "tlds = [u.split('.')[-1] for u in top_urls]"
   ]
  },
  {
   "cell_type": "code",
   "execution_count": 18,
   "metadata": {},
   "outputs": [
    {
     "data": {
      "text/plain": [
       "'US'"
      ]
     },
     "execution_count": 18,
     "metadata": {},
     "output_type": "execute_result"
    }
   ],
   "source": [
    "providers = pd.read_csv('providers_labeled - providers_unlabeled.csv')\n",
    "def get_juris (tld):\n",
    "    return providers[providers['name']==tld]['country (alpha2)'].values[0]\n",
    "get_juris('.com') "
   ]
  },
  {
   "cell_type": "code",
   "execution_count": 53,
   "metadata": {},
   "outputs": [],
   "source": [
    "tld_jurisdictions = [get_juris(f'.{tld}') for tld in tlds]"
   ]
  },
  {
   "cell_type": "code",
   "execution_count": 57,
   "metadata": {},
   "outputs": [
    {
     "data": {
      "text/plain": [
       "0.8"
      ]
     },
     "execution_count": 57,
     "metadata": {},
     "output_type": "execute_result"
    }
   ],
   "source": [
    "len([j for j in tld_jurisdictions if j == 'US'])/len(tld_jurisdictions)"
   ]
  }
 ],
 "metadata": {
  "kernelspec": {
   "display_name": "Python 3 (ipykernel)",
   "language": "python",
   "name": "python3"
  },
  "language_info": {
   "codemirror_mode": {
    "name": "ipython",
    "version": 3
   },
   "file_extension": ".py",
   "mimetype": "text/x-python",
   "name": "python",
   "nbconvert_exporter": "python",
   "pygments_lexer": "ipython3",
   "version": "3.8.10"
  },
  "name": "Untitled.ipynb"
 },
 "nbformat": 4,
 "nbformat_minor": 2
}
